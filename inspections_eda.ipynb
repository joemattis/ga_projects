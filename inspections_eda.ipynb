{
 "cells": [
  {
   "cell_type": "code",
   "execution_count": 7,
   "metadata": {},
   "outputs": [],
   "source": [
    "%matplotlib inline\n",
    "import matplotlib.pyplot as plt\n",
    "import numpy as np\n",
    "import pandas as pd\n",
    "from pandas.plotting import scatter_matrix\n",
    "import seaborn as sns"
   ]
  },
  {
   "cell_type": "markdown",
   "metadata": {},
   "source": [
    "Dataset is restaurant inspection data for LA county"
   ]
  },
  {
   "cell_type": "code",
   "execution_count": null,
   "metadata": {},
   "outputs": [],
   "source": []
  },
  {
   "cell_type": "code",
   "execution_count": 2,
   "metadata": {},
   "outputs": [],
   "source": [
    "inspections = pd.read_csv('inspections.csv')"
   ]
  },
  {
   "cell_type": "code",
   "execution_count": 3,
   "metadata": {},
   "outputs": [
    {
     "name": "stdout",
     "output_type": "stream",
     "text": [
      "<class 'pandas.core.frame.DataFrame'>\n",
      "RangeIndex: 191371 entries, 0 to 191370\n",
      "Data columns (total 20 columns):\n",
      "activity_date          191371 non-null object\n",
      "employee_id            191371 non-null object\n",
      "facility_address       191371 non-null object\n",
      "facility_city          191371 non-null object\n",
      "facility_id            191371 non-null object\n",
      "facility_name          191371 non-null object\n",
      "facility_state         191371 non-null object\n",
      "facility_zip           191371 non-null object\n",
      "grade                  191371 non-null object\n",
      "owner_id               191371 non-null object\n",
      "owner_name             191371 non-null object\n",
      "pe_description         191371 non-null object\n",
      "program_element_pe     191371 non-null int64\n",
      "program_name           190969 non-null object\n",
      "program_status         191371 non-null object\n",
      "record_id              191371 non-null object\n",
      "score                  191371 non-null int64\n",
      "serial_number          191371 non-null object\n",
      "service_code           191371 non-null int64\n",
      "service_description    191371 non-null object\n",
      "dtypes: int64(3), object(17)\n",
      "memory usage: 29.2+ MB\n"
     ]
    }
   ],
   "source": [
    "inspections.info()"
   ]
  },
  {
   "cell_type": "code",
   "execution_count": 115,
   "metadata": {},
   "outputs": [
    {
     "data": {
      "text/html": [
       "<div>\n",
       "<style scoped>\n",
       "    .dataframe tbody tr th:only-of-type {\n",
       "        vertical-align: middle;\n",
       "    }\n",
       "\n",
       "    .dataframe tbody tr th {\n",
       "        vertical-align: top;\n",
       "    }\n",
       "\n",
       "    .dataframe thead th {\n",
       "        text-align: right;\n",
       "    }\n",
       "</style>\n",
       "<table border=\"1\" class=\"dataframe\">\n",
       "  <thead>\n",
       "    <tr style=\"text-align: right;\">\n",
       "      <th></th>\n",
       "      <th>program_element_pe</th>\n",
       "      <th>score</th>\n",
       "      <th>service_code</th>\n",
       "    </tr>\n",
       "  </thead>\n",
       "  <tbody>\n",
       "    <tr>\n",
       "      <th>count</th>\n",
       "      <td>191371.000000</td>\n",
       "      <td>191371.000000</td>\n",
       "      <td>191371.000000</td>\n",
       "    </tr>\n",
       "    <tr>\n",
       "      <th>mean</th>\n",
       "      <td>1629.888980</td>\n",
       "      <td>93.753306</td>\n",
       "      <td>7.078246</td>\n",
       "    </tr>\n",
       "    <tr>\n",
       "      <th>std</th>\n",
       "      <td>9.391426</td>\n",
       "      <td>3.845518</td>\n",
       "      <td>48.932257</td>\n",
       "    </tr>\n",
       "    <tr>\n",
       "      <th>min</th>\n",
       "      <td>1610.000000</td>\n",
       "      <td>54.000000</td>\n",
       "      <td>1.000000</td>\n",
       "    </tr>\n",
       "    <tr>\n",
       "      <th>25%</th>\n",
       "      <td>1631.000000</td>\n",
       "      <td>91.000000</td>\n",
       "      <td>1.000000</td>\n",
       "    </tr>\n",
       "    <tr>\n",
       "      <th>50%</th>\n",
       "      <td>1632.000000</td>\n",
       "      <td>94.000000</td>\n",
       "      <td>1.000000</td>\n",
       "    </tr>\n",
       "    <tr>\n",
       "      <th>75%</th>\n",
       "      <td>1635.000000</td>\n",
       "      <td>97.000000</td>\n",
       "      <td>1.000000</td>\n",
       "    </tr>\n",
       "    <tr>\n",
       "      <th>max</th>\n",
       "      <td>1641.000000</td>\n",
       "      <td>100.000000</td>\n",
       "      <td>401.000000</td>\n",
       "    </tr>\n",
       "  </tbody>\n",
       "</table>\n",
       "</div>"
      ],
      "text/plain": [
       "       program_element_pe          score   service_code\n",
       "count       191371.000000  191371.000000  191371.000000\n",
       "mean          1629.888980      93.753306       7.078246\n",
       "std              9.391426       3.845518      48.932257\n",
       "min           1610.000000      54.000000       1.000000\n",
       "25%           1631.000000      91.000000       1.000000\n",
       "50%           1632.000000      94.000000       1.000000\n",
       "75%           1635.000000      97.000000       1.000000\n",
       "max           1641.000000     100.000000     401.000000"
      ]
     },
     "execution_count": 115,
     "metadata": {},
     "output_type": "execute_result"
    }
   ],
   "source": [
    "inspections.describe()"
   ]
  },
  {
   "cell_type": "code",
   "execution_count": 4,
   "metadata": {},
   "outputs": [
    {
     "data": {
      "text/html": [
       "<div>\n",
       "<style scoped>\n",
       "    .dataframe tbody tr th:only-of-type {\n",
       "        vertical-align: middle;\n",
       "    }\n",
       "\n",
       "    .dataframe tbody tr th {\n",
       "        vertical-align: top;\n",
       "    }\n",
       "\n",
       "    .dataframe thead th {\n",
       "        text-align: right;\n",
       "    }\n",
       "</style>\n",
       "<table border=\"1\" class=\"dataframe\">\n",
       "  <thead>\n",
       "    <tr style=\"text-align: right;\">\n",
       "      <th></th>\n",
       "      <th>activity_date</th>\n",
       "      <th>employee_id</th>\n",
       "      <th>facility_address</th>\n",
       "      <th>facility_city</th>\n",
       "      <th>facility_id</th>\n",
       "      <th>facility_name</th>\n",
       "      <th>facility_state</th>\n",
       "      <th>facility_zip</th>\n",
       "      <th>grade</th>\n",
       "      <th>owner_id</th>\n",
       "      <th>owner_name</th>\n",
       "      <th>pe_description</th>\n",
       "      <th>program_element_pe</th>\n",
       "      <th>program_name</th>\n",
       "      <th>program_status</th>\n",
       "      <th>record_id</th>\n",
       "      <th>score</th>\n",
       "      <th>serial_number</th>\n",
       "      <th>service_code</th>\n",
       "      <th>service_description</th>\n",
       "    </tr>\n",
       "  </thead>\n",
       "  <tbody>\n",
       "    <tr>\n",
       "      <th>0</th>\n",
       "      <td>2017-05-09</td>\n",
       "      <td>EE0000593</td>\n",
       "      <td>17660 CHATSWORTH ST</td>\n",
       "      <td>GRANADA HILLS</td>\n",
       "      <td>FA0175397</td>\n",
       "      <td>HOVIK'S FAMOUS MEAT &amp; DELI</td>\n",
       "      <td>CA</td>\n",
       "      <td>91344</td>\n",
       "      <td>A</td>\n",
       "      <td>OW0181955</td>\n",
       "      <td>JOHN'S FAMOUS MEAT &amp; DELI INC.</td>\n",
       "      <td>FOOD MKT RETAIL (25-1,999 SF) HIGH RISK</td>\n",
       "      <td>1612</td>\n",
       "      <td>HOVIK'S FAMOUS MEAT &amp; DELI</td>\n",
       "      <td>ACTIVE</td>\n",
       "      <td>PR0168541</td>\n",
       "      <td>98</td>\n",
       "      <td>DAHDRUQZO</td>\n",
       "      <td>1</td>\n",
       "      <td>ROUTINE INSPECTION</td>\n",
       "    </tr>\n",
       "    <tr>\n",
       "      <th>1</th>\n",
       "      <td>2017-04-10</td>\n",
       "      <td>EE0000126</td>\n",
       "      <td>3615 PACIFIC COAST HWY</td>\n",
       "      <td>TORRANCE</td>\n",
       "      <td>FA0242138</td>\n",
       "      <td>SHAKEY'S PIZZA</td>\n",
       "      <td>CA</td>\n",
       "      <td>90505</td>\n",
       "      <td>A</td>\n",
       "      <td>OW0237843</td>\n",
       "      <td>SCO, LLC</td>\n",
       "      <td>RESTAURANT (61-150) SEATS HIGH RISK</td>\n",
       "      <td>1638</td>\n",
       "      <td>SHAKEY'S PIZZA</td>\n",
       "      <td>ACTIVE</td>\n",
       "      <td>PR0190290</td>\n",
       "      <td>94</td>\n",
       "      <td>DAL3SBUE0</td>\n",
       "      <td>1</td>\n",
       "      <td>ROUTINE INSPECTION</td>\n",
       "    </tr>\n",
       "    <tr>\n",
       "      <th>2</th>\n",
       "      <td>2017-04-04</td>\n",
       "      <td>EE0000593</td>\n",
       "      <td>17515 CHATSWORTH ST</td>\n",
       "      <td>GRANADA HILLS</td>\n",
       "      <td>FA0007801</td>\n",
       "      <td>BAITH AL HALAL</td>\n",
       "      <td>CA</td>\n",
       "      <td>91344</td>\n",
       "      <td>A</td>\n",
       "      <td>OW0031150</td>\n",
       "      <td>SABIR MOHAMMAD SHAHID</td>\n",
       "      <td>FOOD MKT RETAIL (25-1,999 SF) HIGH RISK</td>\n",
       "      <td>1612</td>\n",
       "      <td>BAITH AL HALAL</td>\n",
       "      <td>INACTIVE</td>\n",
       "      <td>PR0036723</td>\n",
       "      <td>95</td>\n",
       "      <td>DAL2PIKJU</td>\n",
       "      <td>1</td>\n",
       "      <td>ROUTINE INSPECTION</td>\n",
       "    </tr>\n",
       "    <tr>\n",
       "      <th>3</th>\n",
       "      <td>2017-08-15</td>\n",
       "      <td>EE0000971</td>\n",
       "      <td>44455 VALLEY CENTRAL WAY</td>\n",
       "      <td>LANCASTER</td>\n",
       "      <td>FA0013858</td>\n",
       "      <td>FOOD 4 LESS #306</td>\n",
       "      <td>CA</td>\n",
       "      <td>93536</td>\n",
       "      <td>A</td>\n",
       "      <td>OW0012108</td>\n",
       "      <td>FOOD 4 LESS, INC.</td>\n",
       "      <td>RESTAURANT (0-30) SEATS HIGH RISK</td>\n",
       "      <td>1632</td>\n",
       "      <td>FOOD 4 LESS DELI/BAKERY#306</td>\n",
       "      <td>ACTIVE</td>\n",
       "      <td>PR0039905</td>\n",
       "      <td>98</td>\n",
       "      <td>DA0ZMAJXZ</td>\n",
       "      <td>1</td>\n",
       "      <td>ROUTINE INSPECTION</td>\n",
       "    </tr>\n",
       "    <tr>\n",
       "      <th>4</th>\n",
       "      <td>2016-09-26</td>\n",
       "      <td>EE0000145</td>\n",
       "      <td>11700 SOUTH ST</td>\n",
       "      <td>ARTESIA</td>\n",
       "      <td>FA0179671</td>\n",
       "      <td>PHO LITTLE SAIGON</td>\n",
       "      <td>CA</td>\n",
       "      <td>90701</td>\n",
       "      <td>A</td>\n",
       "      <td>OW0185167</td>\n",
       "      <td>PHO SOUTH ST INC</td>\n",
       "      <td>RESTAURANT (61-150) SEATS HIGH RISK</td>\n",
       "      <td>1638</td>\n",
       "      <td>PHO LITTLE SAIGON</td>\n",
       "      <td>ACTIVE</td>\n",
       "      <td>PR0173311</td>\n",
       "      <td>96</td>\n",
       "      <td>DA41DBXA2</td>\n",
       "      <td>1</td>\n",
       "      <td>ROUTINE INSPECTION</td>\n",
       "    </tr>\n",
       "  </tbody>\n",
       "</table>\n",
       "</div>"
      ],
      "text/plain": [
       "  activity_date employee_id          facility_address  facility_city  \\\n",
       "0    2017-05-09   EE0000593       17660 CHATSWORTH ST  GRANADA HILLS   \n",
       "1    2017-04-10   EE0000126    3615 PACIFIC COAST HWY       TORRANCE   \n",
       "2    2017-04-04   EE0000593       17515 CHATSWORTH ST  GRANADA HILLS   \n",
       "3    2017-08-15   EE0000971  44455 VALLEY CENTRAL WAY      LANCASTER   \n",
       "4    2016-09-26   EE0000145            11700 SOUTH ST        ARTESIA   \n",
       "\n",
       "  facility_id               facility_name facility_state facility_zip grade  \\\n",
       "0   FA0175397  HOVIK'S FAMOUS MEAT & DELI             CA        91344     A   \n",
       "1   FA0242138              SHAKEY'S PIZZA             CA        90505     A   \n",
       "2   FA0007801              BAITH AL HALAL             CA        91344     A   \n",
       "3   FA0013858            FOOD 4 LESS #306             CA        93536     A   \n",
       "4   FA0179671           PHO LITTLE SAIGON             CA        90701     A   \n",
       "\n",
       "    owner_id                      owner_name  \\\n",
       "0  OW0181955  JOHN'S FAMOUS MEAT & DELI INC.   \n",
       "1  OW0237843                        SCO, LLC   \n",
       "2  OW0031150           SABIR MOHAMMAD SHAHID   \n",
       "3  OW0012108               FOOD 4 LESS, INC.   \n",
       "4  OW0185167                PHO SOUTH ST INC   \n",
       "\n",
       "                            pe_description  program_element_pe  \\\n",
       "0  FOOD MKT RETAIL (25-1,999 SF) HIGH RISK                1612   \n",
       "1      RESTAURANT (61-150) SEATS HIGH RISK                1638   \n",
       "2  FOOD MKT RETAIL (25-1,999 SF) HIGH RISK                1612   \n",
       "3        RESTAURANT (0-30) SEATS HIGH RISK                1632   \n",
       "4      RESTAURANT (61-150) SEATS HIGH RISK                1638   \n",
       "\n",
       "                  program_name program_status  record_id  score serial_number  \\\n",
       "0   HOVIK'S FAMOUS MEAT & DELI         ACTIVE  PR0168541     98     DAHDRUQZO   \n",
       "1               SHAKEY'S PIZZA         ACTIVE  PR0190290     94     DAL3SBUE0   \n",
       "2               BAITH AL HALAL       INACTIVE  PR0036723     95     DAL2PIKJU   \n",
       "3  FOOD 4 LESS DELI/BAKERY#306         ACTIVE  PR0039905     98     DA0ZMAJXZ   \n",
       "4            PHO LITTLE SAIGON         ACTIVE  PR0173311     96     DA41DBXA2   \n",
       "\n",
       "   service_code service_description  \n",
       "0             1  ROUTINE INSPECTION  \n",
       "1             1  ROUTINE INSPECTION  \n",
       "2             1  ROUTINE INSPECTION  \n",
       "3             1  ROUTINE INSPECTION  \n",
       "4             1  ROUTINE INSPECTION  "
      ]
     },
     "execution_count": 4,
     "metadata": {},
     "output_type": "execute_result"
    }
   ],
   "source": [
    "inspections.head()"
   ]
  },
  {
   "cell_type": "code",
   "execution_count": 5,
   "metadata": {},
   "outputs": [],
   "source": [
    "inspections_filled = inspections.fillna('INACTIVE')"
   ]
  },
  {
   "cell_type": "code",
   "execution_count": 6,
   "metadata": {},
   "outputs": [
    {
     "name": "stdout",
     "output_type": "stream",
     "text": [
      "<class 'pandas.core.frame.DataFrame'>\n",
      "RangeIndex: 191371 entries, 0 to 191370\n",
      "Data columns (total 20 columns):\n",
      "activity_date          191371 non-null object\n",
      "employee_id            191371 non-null object\n",
      "facility_address       191371 non-null object\n",
      "facility_city          191371 non-null object\n",
      "facility_id            191371 non-null object\n",
      "facility_name          191371 non-null object\n",
      "facility_state         191371 non-null object\n",
      "facility_zip           191371 non-null object\n",
      "grade                  191371 non-null object\n",
      "owner_id               191371 non-null object\n",
      "owner_name             191371 non-null object\n",
      "pe_description         191371 non-null object\n",
      "program_element_pe     191371 non-null int64\n",
      "program_name           191371 non-null object\n",
      "program_status         191371 non-null object\n",
      "record_id              191371 non-null object\n",
      "score                  191371 non-null int64\n",
      "serial_number          191371 non-null object\n",
      "service_code           191371 non-null int64\n",
      "service_description    191371 non-null object\n",
      "dtypes: int64(3), object(17)\n",
      "memory usage: 29.2+ MB\n"
     ]
    }
   ],
   "source": [
    "inspections_filled.info()"
   ]
  },
  {
   "cell_type": "code",
   "execution_count": 8,
   "metadata": {},
   "outputs": [
    {
     "data": {
      "text/plain": [
       "array([[<matplotlib.axes._subplots.AxesSubplot object at 0x1153ad080>,\n",
       "        <matplotlib.axes._subplots.AxesSubplot object at 0x115432588>],\n",
       "       [<matplotlib.axes._subplots.AxesSubplot object at 0x11545bc18>,\n",
       "        <matplotlib.axes._subplots.AxesSubplot object at 0x11558d2e8>]],\n",
       "      dtype=object)"
      ]
     },
     "execution_count": 8,
     "metadata": {},
     "output_type": "execute_result"
    },
    {
     "data": {
      "image/png": "[encoded data removed]",
      "text/plain": [
       "<Figure size 432x288 with 4 Axes>"
      ]
     },
     "metadata": {},
     "output_type": "display_data"
    }
   ],
   "source": [
    "inspections.hist()"
   ]
  },
  {
   "cell_type": "code",
   "execution_count": 34,
   "metadata": {},
   "outputs": [
    {
     "data": {
      "text/plain": [
       "array(['A', 'B', 'C', ' '], dtype=object)"
      ]
     },
     "execution_count": 34,
     "metadata": {},
     "output_type": "execute_result"
    }
   ],
   "source": [
    "inspections.grade.unique()"
   ]
  },
  {
   "cell_type": "code",
   "execution_count": 94,
   "metadata": {},
   "outputs": [],
   "source": [
    "inspections_grade = inspections.replace(to_replace='A', value=3)\n",
    "inspections_grade = inspections_grade.replace(to_replace='B', value=2)\n",
    "inspections_grade = inspections_grade.replace(to_replace='C', value=1)"
   ]
  },
  {
   "cell_type": "code",
   "execution_count": 95,
   "metadata": {},
   "outputs": [
    {
     "data": {
      "text/plain": [
       "array([3, 2, 1, ' '], dtype=object)"
      ]
     },
     "execution_count": 95,
     "metadata": {},
     "output_type": "execute_result"
    }
   ],
   "source": [
    "inspections_grade.grade.unique()"
   ]
  },
  {
   "cell_type": "code",
   "execution_count": 96,
   "metadata": {},
   "outputs": [
    {
     "data": {
      "text/html": [
       "<div>\n",
       "<style scoped>\n",
       "    .dataframe tbody tr th:only-of-type {\n",
       "        vertical-align: middle;\n",
       "    }\n",
       "\n",
       "    .dataframe tbody tr th {\n",
       "        vertical-align: top;\n",
       "    }\n",
       "\n",
       "    .dataframe thead th {\n",
       "        text-align: right;\n",
       "    }\n",
       "</style>\n",
       "<table border=\"1\" class=\"dataframe\">\n",
       "  <thead>\n",
       "    <tr style=\"text-align: right;\">\n",
       "      <th></th>\n",
       "      <th>activity_date</th>\n",
       "      <th>employee_id</th>\n",
       "      <th>facility_address</th>\n",
       "      <th>facility_city</th>\n",
       "      <th>facility_id</th>\n",
       "      <th>facility_name</th>\n",
       "      <th>facility_state</th>\n",
       "      <th>facility_zip</th>\n",
       "      <th>grade</th>\n",
       "      <th>owner_id</th>\n",
       "      <th>owner_name</th>\n",
       "      <th>pe_description</th>\n",
       "      <th>program_element_pe</th>\n",
       "      <th>program_name</th>\n",
       "      <th>program_status</th>\n",
       "      <th>record_id</th>\n",
       "      <th>score</th>\n",
       "      <th>serial_number</th>\n",
       "      <th>service_code</th>\n",
       "      <th>service_description</th>\n",
       "    </tr>\n",
       "  </thead>\n",
       "  <tbody>\n",
       "    <tr>\n",
       "      <th>766</th>\n",
       "      <td>2017-09-20</td>\n",
       "      <td>EE0000163</td>\n",
       "      <td>14021 S PIONEER BLVD</td>\n",
       "      <td>NORWALK</td>\n",
       "      <td>FA0177189</td>\n",
       "      <td>HIBACHI GRILL BUFFET</td>\n",
       "      <td>CA</td>\n",
       "      <td>90650</td>\n",
       "      <td></td>\n",
       "      <td>OW0183147</td>\n",
       "      <td>CA HIBACHI BUFFET INC</td>\n",
       "      <td>RESTAURANT (151 + ) SEATS HIGH RISK</td>\n",
       "      <td>1641</td>\n",
       "      <td>HIBACHI GRILL BUFFET</td>\n",
       "      <td>ACTIVE</td>\n",
       "      <td>PR0170152</td>\n",
       "      <td>65</td>\n",
       "      <td>DAAJPSDX7</td>\n",
       "      <td>1</td>\n",
       "      <td>ROUTINE INSPECTION</td>\n",
       "    </tr>\n",
       "    <tr>\n",
       "      <th>891</th>\n",
       "      <td>2017-02-07</td>\n",
       "      <td>EE0000821</td>\n",
       "      <td>745 E GARVEY AVE STE 101</td>\n",
       "      <td>MONTEREY PARK</td>\n",
       "      <td>FA0166263</td>\n",
       "      <td>PHO BANH MI CHE CALI</td>\n",
       "      <td>CA</td>\n",
       "      <td>91755-3068</td>\n",
       "      <td></td>\n",
       "      <td>OW0129433</td>\n",
       "      <td>BMCPHO MONTEREY PARK INC.</td>\n",
       "      <td>RESTAURANT (61-150) SEATS HIGH RISK</td>\n",
       "      <td>1638</td>\n",
       "      <td>PHO BANH MI CHE CALI</td>\n",
       "      <td>ACTIVE</td>\n",
       "      <td>PR0156516</td>\n",
       "      <td>67</td>\n",
       "      <td>DAQOIVOGA</td>\n",
       "      <td>1</td>\n",
       "      <td>ROUTINE INSPECTION</td>\n",
       "    </tr>\n",
       "    <tr>\n",
       "      <th>9002</th>\n",
       "      <td>2017-04-05</td>\n",
       "      <td>EE0000821</td>\n",
       "      <td>108 N GARFIELD AVE</td>\n",
       "      <td>MONTEREY PARK</td>\n",
       "      <td>FA0240496</td>\n",
       "      <td>EAST FUSION RESTAURANT</td>\n",
       "      <td>CA</td>\n",
       "      <td>91754</td>\n",
       "      <td></td>\n",
       "      <td>OW0236578</td>\n",
       "      <td>EAST FUSION RESTAURANT, INC.</td>\n",
       "      <td>RESTAURANT (61-150) SEATS HIGH RISK</td>\n",
       "      <td>1638</td>\n",
       "      <td>EAST FUSION RESTAURANT</td>\n",
       "      <td>ACTIVE</td>\n",
       "      <td>PR0188528</td>\n",
       "      <td>62</td>\n",
       "      <td>DAUF1RDDI</td>\n",
       "      <td>1</td>\n",
       "      <td>ROUTINE INSPECTION</td>\n",
       "    </tr>\n",
       "    <tr>\n",
       "      <th>11308</th>\n",
       "      <td>2016-09-21</td>\n",
       "      <td>EE0000854</td>\n",
       "      <td>3418 W 8TH ST</td>\n",
       "      <td>LOS ANGELES</td>\n",
       "      <td>FA0049645</td>\n",
       "      <td>STO. DOMINGO BAKERY</td>\n",
       "      <td>CA</td>\n",
       "      <td>90005</td>\n",
       "      <td></td>\n",
       "      <td>OW0015350</td>\n",
       "      <td>HERNANDEZ ENRIQUE</td>\n",
       "      <td>RESTAURANT (0-30) SEATS HIGH RISK</td>\n",
       "      <td>1632</td>\n",
       "      <td>STO. DOMINGO BAKERY</td>\n",
       "      <td>ACTIVE</td>\n",
       "      <td>PR0038369</td>\n",
       "      <td>65</td>\n",
       "      <td>DAABC7FCZ</td>\n",
       "      <td>1</td>\n",
       "      <td>ROUTINE INSPECTION</td>\n",
       "    </tr>\n",
       "    <tr>\n",
       "      <th>14439</th>\n",
       "      <td>2015-09-10</td>\n",
       "      <td>EE0000882</td>\n",
       "      <td>2210 MARINE AVE STE J</td>\n",
       "      <td>GARDENA</td>\n",
       "      <td>FA0170261</td>\n",
       "      <td>FORTUNE CORNER CHINESE FOOD</td>\n",
       "      <td>CA</td>\n",
       "      <td>90249</td>\n",
       "      <td></td>\n",
       "      <td>OW0178072</td>\n",
       "      <td>YUEDONG PENG</td>\n",
       "      <td>RESTAURANT (0-30) SEATS HIGH RISK</td>\n",
       "      <td>1632</td>\n",
       "      <td>CHINESE FOOD</td>\n",
       "      <td>INACTIVE</td>\n",
       "      <td>PR0160724</td>\n",
       "      <td>66</td>\n",
       "      <td>DAXAEXIJS</td>\n",
       "      <td>1</td>\n",
       "      <td>ROUTINE INSPECTION</td>\n",
       "    </tr>\n",
       "  </tbody>\n",
       "</table>\n",
       "</div>"
      ],
      "text/plain": [
       "      activity_date employee_id          facility_address  facility_city  \\\n",
       "766      2017-09-20   EE0000163      14021 S PIONEER BLVD        NORWALK   \n",
       "891      2017-02-07   EE0000821  745 E GARVEY AVE STE 101  MONTEREY PARK   \n",
       "9002     2017-04-05   EE0000821        108 N GARFIELD AVE  MONTEREY PARK   \n",
       "11308    2016-09-21   EE0000854             3418 W 8TH ST    LOS ANGELES   \n",
       "14439    2015-09-10   EE0000882     2210 MARINE AVE STE J        GARDENA   \n",
       "\n",
       "      facility_id                facility_name facility_state facility_zip  \\\n",
       "766     FA0177189         HIBACHI GRILL BUFFET             CA        90650   \n",
       "891     FA0166263         PHO BANH MI CHE CALI             CA   91755-3068   \n",
       "9002    FA0240496       EAST FUSION RESTAURANT             CA        91754   \n",
       "11308   FA0049645          STO. DOMINGO BAKERY             CA        90005   \n",
       "14439   FA0170261  FORTUNE CORNER CHINESE FOOD             CA        90249   \n",
       "\n",
       "      grade   owner_id                    owner_name  \\\n",
       "766          OW0183147         CA HIBACHI BUFFET INC   \n",
       "891          OW0129433     BMCPHO MONTEREY PARK INC.   \n",
       "9002         OW0236578  EAST FUSION RESTAURANT, INC.   \n",
       "11308        OW0015350             HERNANDEZ ENRIQUE   \n",
       "14439        OW0178072                  YUEDONG PENG   \n",
       "\n",
       "                            pe_description  program_element_pe  \\\n",
       "766    RESTAURANT (151 + ) SEATS HIGH RISK                1641   \n",
       "891    RESTAURANT (61-150) SEATS HIGH RISK                1638   \n",
       "9002   RESTAURANT (61-150) SEATS HIGH RISK                1638   \n",
       "11308    RESTAURANT (0-30) SEATS HIGH RISK                1632   \n",
       "14439    RESTAURANT (0-30) SEATS HIGH RISK                1632   \n",
       "\n",
       "                 program_name program_status  record_id  score serial_number  \\\n",
       "766      HIBACHI GRILL BUFFET         ACTIVE  PR0170152     65     DAAJPSDX7   \n",
       "891      PHO BANH MI CHE CALI         ACTIVE  PR0156516     67     DAQOIVOGA   \n",
       "9002   EAST FUSION RESTAURANT         ACTIVE  PR0188528     62     DAUF1RDDI   \n",
       "11308     STO. DOMINGO BAKERY         ACTIVE  PR0038369     65     DAABC7FCZ   \n",
       "14439            CHINESE FOOD       INACTIVE  PR0160724     66     DAXAEXIJS   \n",
       "\n",
       "       service_code service_description  \n",
       "766               1  ROUTINE INSPECTION  \n",
       "891               1  ROUTINE INSPECTION  \n",
       "9002              1  ROUTINE INSPECTION  \n",
       "11308             1  ROUTINE INSPECTION  \n",
       "14439             1  ROUTINE INSPECTION  "
      ]
     },
     "execution_count": 96,
     "metadata": {},
     "output_type": "execute_result"
    }
   ],
   "source": [
    "inspections_grade[inspections_grade.grade==' '].head()"
   ]
  },
  {
   "cell_type": "code",
   "execution_count": 97,
   "metadata": {},
   "outputs": [],
   "source": [
    "inspections_cleaned = inspections_grade[inspections_grade.grade != ' ']"
   ]
  },
  {
   "cell_type": "code",
   "execution_count": 98,
   "metadata": {},
   "outputs": [
    {
     "data": {
      "text/plain": [
       "array([3, 2, 1], dtype=object)"
      ]
     },
     "execution_count": 98,
     "metadata": {},
     "output_type": "execute_result"
    }
   ],
   "source": [
    "inspections_cleaned.grade.unique()"
   ]
  },
  {
   "cell_type": "code",
   "execution_count": 99,
   "metadata": {},
   "outputs": [
    {
     "name": "stderr",
     "output_type": "stream",
     "text": [
      "/Users/josephrmattis/anaconda3/lib/python3.6/site-packages/ipykernel_launcher.py:1: SettingWithCopyWarning: \n",
      "A value is trying to be set on a copy of a slice from a DataFrame.\n",
      "Try using .loc[row_indexer,col_indexer] = value instead\n",
      "\n",
      "See the caveats in the documentation: http://pandas.pydata.org/pandas-docs/stable/indexing.html#indexing-view-versus-copy\n",
      "  \"\"\"Entry point for launching an IPython kernel.\n"
     ]
    }
   ],
   "source": [
    "inspections_cleaned['new_grade'] = inspections_cleaned.grade.apply(lambda x: float(x))"
   ]
  },
  {
   "cell_type": "code",
   "execution_count": 100,
   "metadata": {},
   "outputs": [
    {
     "name": "stdout",
     "output_type": "stream",
     "text": [
      "<class 'pandas.core.frame.DataFrame'>\n",
      "Int64Index: 191339 entries, 0 to 191370\n",
      "Data columns (total 21 columns):\n",
      "activity_date          191339 non-null object\n",
      "employee_id            191339 non-null object\n",
      "facility_address       191339 non-null object\n",
      "facility_city          191339 non-null object\n",
      "facility_id            191339 non-null object\n",
      "facility_name          191339 non-null object\n",
      "facility_state         191339 non-null object\n",
      "facility_zip           191339 non-null object\n",
      "grade                  191339 non-null object\n",
      "owner_id               191339 non-null object\n",
      "owner_name             191339 non-null object\n",
      "pe_description         191339 non-null object\n",
      "program_element_pe     191339 non-null int64\n",
      "program_name           190937 non-null object\n",
      "program_status         191339 non-null object\n",
      "record_id              191339 non-null object\n",
      "score                  191339 non-null int64\n",
      "serial_number          191339 non-null object\n",
      "service_code           191339 non-null int64\n",
      "service_description    191339 non-null object\n",
      "new_grade              191339 non-null float64\n",
      "dtypes: float64(1), int64(3), object(17)\n",
      "memory usage: 32.1+ MB\n"
     ]
    },
    {
     "data": {
      "image/png": "[encoded data removed]",
      "text/plain": [
       "<Figure size 432x288 with 4 Axes>"
      ]
     },
     "metadata": {},
     "output_type": "display_data"
    }
   ],
   "source": [
    "inspections_cleaned.hist()\n",
    "inspections_cleaned.info()"
   ]
  },
  {
   "cell_type": "markdown",
   "metadata": {},
   "source": [
    "Which cities have the worst resturant ratings?"
   ]
  },
  {
   "cell_type": "code",
   "execution_count": 108,
   "metadata": {},
   "outputs": [
    {
     "data": {
      "text/plain": [
       "facility_city\n",
       "LEONA VALLEY        2.500000\n",
       "AVALON              2.690083\n",
       "MONTEREY PARK       2.743746\n",
       "WEST LOS ANGELES    2.750000\n",
       "SIGNAL HILL         2.813765\n",
       "WESTWOOD            2.833333\n",
       "ALHAMBRA            2.851333\n",
       "GORMAN              2.857143\n",
       "LONG BEACH          2.866667\n",
       "TERMINAL ISLAND     2.875000\n",
       "Name: new_grade, dtype: float64"
      ]
     },
     "execution_count": 108,
     "metadata": {},
     "output_type": "execute_result"
    }
   ],
   "source": [
    "inspections_cleaned.groupby('facility_city').mean().loc[:,'new_grade'].sort_values().head(10)"
   ]
  },
  {
   "cell_type": "markdown",
   "metadata": {},
   "source": [
    "Which reviewers give the best and worst ratings?"
   ]
  },
  {
   "cell_type": "code",
   "execution_count": 114,
   "metadata": {},
   "outputs": [
    {
     "data": {
      "text/plain": [
       "employee_id\n",
       "EE0000063    3.0\n",
       "EE0000252    3.0\n",
       "EE0000773    3.0\n",
       "EE0000751    3.0\n",
       "EE0000736    3.0\n",
       "EE0000545    3.0\n",
       "EE0000434    3.0\n",
       "EE0000284    3.0\n",
       "EE0000259    3.0\n",
       "EE0000255    3.0\n",
       "Name: new_grade, dtype: float64"
      ]
     },
     "execution_count": 114,
     "metadata": {},
     "output_type": "execute_result"
    }
   ],
   "source": [
    "inspections_cleaned.groupby('employee_id').mean().loc[:,'new_grade'].sort_values().head(10)\n",
    "inspections_cleaned.groupby('employee_id').mean().loc[:,'new_grade'].sort_values(ascending=False).head(10)"
   ]
  },
  {
   "cell_type": "code",
   "execution_count": null,
   "metadata": {},
   "outputs": [],
   "source": [
    "Do certain types of restaurants have worse scores?"
   ]
  },
  {
   "cell_type": "code",
   "execution_count": 116,
   "metadata": {},
   "outputs": [
    {
     "data": {
      "text/plain": [
       "pe_description\n",
       "FOOD MKT RETAIL (2,000+ SF) HIGH RISK          92.506999\n",
       "RESTAURANT (31-60) SEATS HIGH RISK             92.645707\n",
       "RESTAURANT (61-150) SEATS HIGH RISK            92.714990\n",
       "RESTAURANT (0-30) SEATS HIGH RISK              93.040390\n",
       "RESTAURANT (151 + ) SEATS HIGH RISK            93.136178\n",
       "RESTAURANT (0-30) SEATS MODERATE RISK          94.427591\n",
       "FOOD MKT RETAIL (25-1,999 SF) MODERATE RISK    94.431562\n",
       "RESTAURANT (31-60) SEATS MODERATE RISK         94.473477\n",
       "FOOD MKT RETAIL (25-1,999 SF) HIGH RISK        94.498991\n",
       "RESTAURANT (151 + ) SEATS MODERATE RISK        94.545202\n",
       "Name: score, dtype: float64"
      ]
     },
     "execution_count": 116,
     "metadata": {},
     "output_type": "execute_result"
    }
   ],
   "source": [
    "inspections_cleaned.groupby('pe_description').mean().loc[:,'score'].sort_values().head(10)"
   ]
  },
  {
   "cell_type": "code",
   "execution_count": 117,
   "metadata": {},
   "outputs": [
    {
     "data": {
      "text/plain": [
       "pe_description\n",
       "FOOD MKT RETAIL (2,000+ SF) HIGH RISK          92.506999\n",
       "FOOD MKT RETAIL (2,000+ SF) LOW RISK           95.446111\n",
       "FOOD MKT RETAIL (2,000+ SF) MODERATE RISK      95.096421\n",
       "FOOD MKT RETAIL (25-1,999 SF) HIGH RISK        94.498991\n",
       "FOOD MKT RETAIL (25-1,999 SF) LOW RISK         96.051856\n",
       "FOOD MKT RETAIL (25-1,999 SF) MODERATE RISK    94.431562\n",
       "RESTAURANT (0-30) SEATS HIGH RISK              93.040390\n",
       "RESTAURANT (0-30) SEATS LOW RISK               95.715472\n",
       "RESTAURANT (0-30) SEATS MODERATE RISK          94.427591\n",
       "RESTAURANT (151 + ) SEATS HIGH RISK            93.136178\n",
       "RESTAURANT (151 + ) SEATS LOW RISK             96.307359\n",
       "RESTAURANT (151 + ) SEATS MODERATE RISK        94.545202\n",
       "RESTAURANT (31-60) SEATS HIGH RISK             92.645707\n",
       "RESTAURANT (31-60) SEATS LOW RISK              95.476954\n",
       "RESTAURANT (31-60) SEATS MODERATE RISK         94.473477\n",
       "RESTAURANT (61-150) SEATS HIGH RISK            92.714990\n",
       "RESTAURANT (61-150) SEATS LOW RISK             95.680713\n",
       "RESTAURANT (61-150) SEATS MODERATE RISK        94.713557\n",
       "Name: score, dtype: float64"
      ]
     },
     "execution_count": 117,
     "metadata": {},
     "output_type": "execute_result"
    }
   ],
   "source": [
    "inspections_cleaned.groupby('pe_description').mean().loc[:,'score']"
   ]
  },
  {
   "cell_type": "code",
   "execution_count": 124,
   "metadata": {},
   "outputs": [
    {
     "data": {
      "text/plain": [
       "<matplotlib.axes._subplots.AxesSubplot at 0x126a21d68>"
      ]
     },
     "execution_count": 124,
     "metadata": {},
     "output_type": "execute_result"
    },
    {
     "data": {
      "image/png": "[encoded data removed]",
      "text/plain": [
       "<Figure size 432x288 with 1 Axes>"
      ]
     },
     "metadata": {},
     "output_type": "display_data"
    }
   ],
   "source": [
    "inspections_cleaned.groupby('pe_description').mean().loc[:,'score'].plot(kind='bar')"
   ]
  },
  {
   "cell_type": "code",
   "execution_count": 128,
   "metadata": {},
   "outputs": [
    {
     "data": {
      "text/plain": [
       "<matplotlib.axes._subplots.AxesSubplot at 0x1a2d2b13c8>"
      ]
     },
     "execution_count": 128,
     "metadata": {},
     "output_type": "execute_result"
    },
    {
     "data": {
      "image/png": "[encoded data removed]",
      "text/plain": [
       "<Figure size 432x288 with 1 Axes>"
      ]
     },
     "metadata": {},
     "output_type": "display_data"
    }
   ],
   "source": [
    "inspections_cleaned.groupby('facility_city').mean().loc[:,'score'].nsmallest(10).plot(kind='bar')\n",
    "inspections_cleaned.groupby('facility_city').mean().loc[:,'score'].nlargest(10).plot(kind='bar')"
   ]
  },
  {
   "cell_type": "code",
   "execution_count": null,
   "metadata": {},
   "outputs": [],
   "source": []
  }
 ],
 "metadata": {
  "kernelspec": {
   "display_name": "Python 3",
   "language": "python",
   "name": "python3"
  },
  "language_info": {
   "codemirror_mode": {
    "name": "ipython",
    "version": 3
   },
   "file_extension": ".py",
   "mimetype": "text/x-python",
   "name": "python",
   "nbconvert_exporter": "python",
   "pygments_lexer": "ipython3",
   "version": "3.6.5"
  }
 },
 "nbformat": 4,
 "nbformat_minor": 2
}
