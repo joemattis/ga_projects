{
 "cells": [
  {
   "cell_type": "markdown",
   "metadata": {},
   "source": [
    "# Predicting House Elections\n",
    "\n",
    "- Initially wanted to predict district-by-district results using polling data\n",
    "- Realized this was a much bigger project than I could take on right now\n",
    "- Instead decided on using general ballot polling data \n",
    "- Since this data usually is very close, I added in campaign finance data, incumbency data, and data on who was the president\n",
    "- Ran a logistic regression model on 2012 and 2014 elections, training and testing individually on each one, getting very good results\n",
    "- Then trained the model on 2012 and 2014 elections together and used them to predict the 2016 house election\n",
    "- Realized that because the results in general ballot polling data are usually so close to each other, this is not a very useful predictor of elections\n",
    "- Rather, as Paul realized, campaign finance data is a fairly good predictor"
   ]
  },
  {
   "cell_type": "code",
   "execution_count": 52,
   "metadata": {},
   "outputs": [],
   "source": [
    "%matplotlib inline"
   ]
  },
  {
   "cell_type": "code",
   "execution_count": 77,
   "metadata": {},
   "outputs": [],
   "source": [
    "import pandas as pd\n",
    "import datetime as dt\n",
    "import numpy as np\n",
    "from sklearn.linear_model import LogisticRegression\n",
    "from sklearn.model_selection import train_test_split\n",
    "from sklearn.metrics import classification_report, confusion_matrix\n",
    "from sklearn.naive_bayes import GaussianNB\n",
    "from sklearn.dummy import DummyClassifier"
   ]
  },
  {
   "cell_type": "markdown",
   "metadata": {},
   "source": [
    "# Load in polling data"
   ]
  },
  {
   "cell_type": "code",
   "execution_count": 32,
   "metadata": {},
   "outputs": [],
   "source": [
    "#polling data\n",
    "house_polls_2012 = pd.read_csv('data/final/12-US-House-poll-responses-clean.tsv', sep='\\t', lineterminator='\\n')\n",
    "house_polls_2014 = pd.read_csv('data/final/14-US-House-poll-responses-clean.tsv', sep='\\t', lineterminator='\\n')\n"
   ]
  },
  {
   "cell_type": "markdown",
   "metadata": {},
   "source": [
    "# Weight the polling data based on proximity to election"
   ]
  },
  {
   "cell_type": "code",
   "execution_count": 129,
   "metadata": {},
   "outputs": [],
   "source": [
    "#weight the polling data based on proximity to election\n",
    "election_2012_date = dt.datetime(2012, 11, 6)\n",
    "election_2014_date = dt.datetime(2014, 11, 4)\n",
    "house_polls_2012['end_date'] = pd.to_datetime(house_polls_2012['end_date'])\n",
    "house_polls_2014['end_date'] = pd.to_datetime(house_polls_2014['end_date'])\n",
    "house_polls_2012['days_from_election'] =(election_2012_date -  house_polls_2012['end_date'])\n",
    "house_polls_2014['days_from_election'] =(election_2014_date -  house_polls_2014['end_date'])\n",
    "house_polls_2012['days_from_election'] = house_polls_2012['days_from_election'].apply(lambda x: int(x.days))\n",
    "max_num = house_polls_2012['days_from_election'].max()\n",
    "\n",
    "house_polls_2014['days_from_election'] = house_polls_2014['days_from_election'].apply(lambda x: int(x.days))\n",
    "max_num_2014 = house_polls_2014['days_from_election'].max()\n",
    "house_polls_2012['days_from_election'] =max_num - house_polls_2012['days_from_election']\n",
    "\n",
    "house_polls_2014['days_from_election'] =max_num_2014 - house_polls_2014['days_from_election']\n",
    "\n",
    "\n",
    "house_polls_2012['democrat_weight'] = house_polls_2012['Democrat']*house_polls_2012['days_from_election']\n",
    "\n",
    "house_polls_2014['democrat_weight'] = house_polls_2014['Democrat']*house_polls_2014['days_from_election']\n",
    "house_polls_2012['republican_weight'] = house_polls_2012['Republican']*house_polls_2012['days_from_election']\n",
    "house_polls_2014['republican_weight'] = house_polls_2014['Republican']*house_polls_2014['days_from_election']\n",
    "house_polls_2012['democrat_avg'] = house_polls_2012['democrat_weight'].sum()/house_polls_2012['days_from_election'].sum()\n",
    "house_polls_2014['democrat_avg'] = house_polls_2014['democrat_weight'].sum()/house_polls_2014['days_from_election'].sum()\n",
    "\n",
    "house_polls_2012['republican_avg'] = house_polls_2012['republican_weight'].sum()/house_polls_2012['days_from_election'].sum()\n",
    "house_polls_2014['republican_avg'] = house_polls_2014['republican_weight'].sum()/house_polls_2014['days_from_election'].sum()"
   ]
  },
  {
   "cell_type": "markdown",
   "metadata": {},
   "source": [
    "# Load in election results"
   ]
  },
  {
   "cell_type": "code",
   "execution_count": 130,
   "metadata": {},
   "outputs": [],
   "source": [
    "#load in election results\n",
    "df_election_2012 = pd.read_excel('data/final/federalelections2012.xls', sheet_name=11)\n",
    "df_election_2014 = pd.read_excel('data/final/federalelections2014.xls', sheet_name=7)\n",
    "df_election_2016 = pd.read_excel('data/final/federalelections2016.xlsx', sheet_name=12)"
   ]
  },
  {
   "cell_type": "markdown",
   "metadata": {},
   "source": [
    "# Clean election result data"
   ]
  },
  {
   "cell_type": "code",
   "execution_count": 131,
   "metadata": {},
   "outputs": [],
   "source": [
    "df_election_2012 = df_election_2012[df_election_2012['FEC ID#'].str.contains(\"n/a\") == False]\n",
    "df_election_2014 = df_election_2014[df_election_2014['FEC ID#'].str.contains(\"n/a\") == False]\n",
    "df_election_2016 = df_election_2016[df_election_2016['FEC ID#'].str.contains(\"n/a\") == False]"
   ]
  },
  {
   "cell_type": "code",
   "execution_count": 132,
   "metadata": {},
   "outputs": [],
   "source": [
    "df_elections_cleaned = df_election_2012[['STATE ABBREVIATION', 'D', '(I)','FEC ID#', 'CANDIDATE NAME', 'GENERAL %', 'GE WINNER INDICATOR']]"
   ]
  },
  {
   "cell_type": "code",
   "execution_count": 133,
   "metadata": {},
   "outputs": [],
   "source": [
    "df_elections_cleaned_2014 = df_election_2014[['STATE ABBREVIATION', 'D', '(I)','FEC ID#', 'CANDIDATE NAME', 'GENERAL %', 'GE WINNER INDICATOR']]\n",
    "\n",
    "\n",
    "df_elections_cleaned_2016 = df_election_2016[['STATE ABBREVIATION', 'D', '(I)','FEC ID#', 'CANDIDATE NAME', 'GENERAL %', 'GE WINNER INDICATOR']]\n",
    "\n"
   ]
  },
  {
   "cell_type": "markdown",
   "metadata": {},
   "source": [
    "# Load in fundraising data"
   ]
  },
  {
   "cell_type": "code",
   "execution_count": 134,
   "metadata": {},
   "outputs": [],
   "source": [
    "raising_2012 = pd.read_csv('data/final/weball12.txt', sep='|', lineterminator='\\n', header=None)\n",
    "raising_2014 = pd.read_csv('data/final/weball14.txt', sep='|', lineterminator='\\n', header=None)\n",
    "raising_2016 = pd.read_csv('data/final/weball16.txt', sep='|', lineterminator='\\n', header=None)\n",
    "\n"
   ]
  },
  {
   "cell_type": "markdown",
   "metadata": {},
   "source": [
    " # Label and clean data"
   ]
  },
  {
   "cell_type": "code",
   "execution_count": 135,
   "metadata": {},
   "outputs": [],
   "source": [
    "cols = pd.read_excel('data/final/fundraising_mapping.xlsx', header=None)\n",
    "col_list = cols[0].values.tolist()[0:30]"
   ]
  },
  {
   "cell_type": "code",
   "execution_count": 136,
   "metadata": {},
   "outputs": [],
   "source": [
    "raising_2012.columns = col_list\n",
    "raising_2014.columns = col_list\n",
    "raising_2016.columns = col_list"
   ]
  },
  {
   "cell_type": "code",
   "execution_count": 137,
   "metadata": {},
   "outputs": [],
   "source": [
    "raising_2012_subset = raising_2012[['CAND_ID', 'CAND_NAME', 'CAND_ICI', 'CAND_PTY_AFFILIATION', 'TTL_RECEIPTS']]\n",
    "raising_2014_subset = raising_2014[['CAND_ID', 'CAND_NAME', 'CAND_ICI', 'CAND_PTY_AFFILIATION', 'TTL_RECEIPTS']]\n",
    "raising_2016_subset = raising_2016[['CAND_ID', 'CAND_NAME', 'CAND_ICI', 'CAND_PTY_AFFILIATION', 'TTL_RECEIPTS']]"
   ]
  },
  {
   "cell_type": "markdown",
   "metadata": {},
   "source": [
    "# Further clean and join data"
   ]
  },
  {
   "cell_type": "code",
   "execution_count": 138,
   "metadata": {},
   "outputs": [],
   "source": [
    "df_election_2012_subset = df_election_2012[['STATE ABBREVIATION', '(I)','D', 'FEC ID#', 'CANDIDATE NAME (First)', \n",
    "                                           'CANDIDATE NAME (Last)', 'GENERAL %', 'GE WINNER INDICATOR', 'PARTY']]\n",
    "\n",
    "df_election_2014_subset = df_election_2014[['STATE ABBREVIATION', '(I)','D', 'FEC ID#', 'CANDIDATE NAME (First)', \n",
    "                                           'CANDIDATE NAME (Last)', 'GENERAL %', 'GE WINNER INDICATOR', 'PARTY']]\n",
    "\n",
    "\n",
    "\n",
    "df_election_2016_subset = df_election_2016[['STATE ABBREVIATION', '(I)','D', 'FEC ID#', 'CANDIDATE NAME (First)', \n",
    "                                           'CANDIDATE NAME (Last)', 'GENERAL %', 'GE WINNER INDICATOR', 'PARTY']]"
   ]
  },
  {
   "cell_type": "code",
   "execution_count": 139,
   "metadata": {},
   "outputs": [
    {
     "name": "stderr",
     "output_type": "stream",
     "text": [
      "/Users/josephrmattis/anaconda3/lib/python3.6/site-packages/ipykernel_launcher.py:1: SettingWithCopyWarning: \n",
      "A value is trying to be set on a copy of a slice from a DataFrame.\n",
      "Try using .loc[row_indexer,col_indexer] = value instead\n",
      "\n",
      "See the caveats in the documentation: http://pandas.pydata.org/pandas-docs/stable/indexing.html#indexing-view-versus-copy\n",
      "  \"\"\"Entry point for launching an IPython kernel.\n",
      "/Users/josephrmattis/anaconda3/lib/python3.6/site-packages/ipykernel_launcher.py:2: SettingWithCopyWarning: \n",
      "A value is trying to be set on a copy of a slice from a DataFrame.\n",
      "Try using .loc[row_indexer,col_indexer] = value instead\n",
      "\n",
      "See the caveats in the documentation: http://pandas.pydata.org/pandas-docs/stable/indexing.html#indexing-view-versus-copy\n",
      "  \n",
      "/Users/josephrmattis/anaconda3/lib/python3.6/site-packages/ipykernel_launcher.py:6: SettingWithCopyWarning: \n",
      "A value is trying to be set on a copy of a slice from a DataFrame.\n",
      "Try using .loc[row_indexer,col_indexer] = value instead\n",
      "\n",
      "See the caveats in the documentation: http://pandas.pydata.org/pandas-docs/stable/indexing.html#indexing-view-versus-copy\n",
      "  \n",
      "/Users/josephrmattis/anaconda3/lib/python3.6/site-packages/ipykernel_launcher.py:7: SettingWithCopyWarning: \n",
      "A value is trying to be set on a copy of a slice from a DataFrame.\n",
      "Try using .loc[row_indexer,col_indexer] = value instead\n",
      "\n",
      "See the caveats in the documentation: http://pandas.pydata.org/pandas-docs/stable/indexing.html#indexing-view-versus-copy\n",
      "  import sys\n",
      "/Users/josephrmattis/anaconda3/lib/python3.6/site-packages/ipykernel_launcher.py:10: SettingWithCopyWarning: \n",
      "A value is trying to be set on a copy of a slice from a DataFrame.\n",
      "Try using .loc[row_indexer,col_indexer] = value instead\n",
      "\n",
      "See the caveats in the documentation: http://pandas.pydata.org/pandas-docs/stable/indexing.html#indexing-view-versus-copy\n",
      "  # Remove the CWD from sys.path while we load stuff.\n",
      "/Users/josephrmattis/anaconda3/lib/python3.6/site-packages/ipykernel_launcher.py:11: SettingWithCopyWarning: \n",
      "A value is trying to be set on a copy of a slice from a DataFrame.\n",
      "Try using .loc[row_indexer,col_indexer] = value instead\n",
      "\n",
      "See the caveats in the documentation: http://pandas.pydata.org/pandas-docs/stable/indexing.html#indexing-view-versus-copy\n",
      "  # This is added back by InteractiveShellApp.init_path()\n"
     ]
    }
   ],
   "source": [
    "df_election_2012_subset['CAND_ID'] = df_election_2012_subset['FEC ID#'].apply(lambda x:str(x).strip())\n",
    "raising_2012_subset['CAND_ID'] = raising_2012_subset['CAND_ID'].apply(lambda x:str(x).strip())\n",
    "\n",
    "\n",
    "\n",
    "df_election_2014_subset['CAND_ID'] = df_election_2014_subset['FEC ID#'].apply(lambda x:str(x).strip())\n",
    "raising_2014_subset['CAND_ID'] = raising_2014_subset['CAND_ID'].apply(lambda x:str(x).strip())\n",
    "\n",
    "\n",
    "df_election_2016_subset['CAND_ID'] = df_election_2016_subset['FEC ID#'].apply(lambda x:str(x).strip())\n",
    "raising_2016_subset['CAND_ID'] = raising_2016_subset['CAND_ID'].apply(lambda x:str(x).strip())"
   ]
  },
  {
   "cell_type": "code",
   "execution_count": 140,
   "metadata": {},
   "outputs": [],
   "source": [
    "raising_2012_subset = raising_2012_subset.set_index('CAND_ID')\n",
    "df_election_2012_subset = df_election_2012_subset.set_index('CAND_ID')\n",
    "raising_2014_subset = raising_2014_subset.set_index('CAND_ID')\n",
    "df_election_2014_subset = df_election_2014_subset.set_index('CAND_ID')\n",
    "raising_2016_subset = raising_2016_subset.set_index('CAND_ID')\n",
    "df_election_2016_subset = df_election_2016_subset.set_index('CAND_ID')"
   ]
  },
  {
   "cell_type": "code",
   "execution_count": 141,
   "metadata": {},
   "outputs": [],
   "source": [
    "joined_data = df_election_2012_subset.join(raising_2012_subset, on='CAND_ID')\n",
    "joined_data_2014 = df_election_2014_subset.join(raising_2014_subset, on='CAND_ID')\n",
    "\n",
    "joined_data_2016 = df_election_2016_subset.join(raising_2016_subset, on='CAND_ID')"
   ]
  },
  {
   "cell_type": "markdown",
   "metadata": {},
   "source": [
    "# Fix missing and null values"
   ]
  },
  {
   "cell_type": "code",
   "execution_count": 142,
   "metadata": {},
   "outputs": [
    {
     "data": {
      "text/html": [
       "<div>\n",
       "<style scoped>\n",
       "    .dataframe tbody tr th:only-of-type {\n",
       "        vertical-align: middle;\n",
       "    }\n",
       "\n",
       "    .dataframe tbody tr th {\n",
       "        vertical-align: top;\n",
       "    }\n",
       "\n",
       "    .dataframe thead th {\n",
       "        text-align: right;\n",
       "    }\n",
       "</style>\n",
       "<table border=\"1\" class=\"dataframe\">\n",
       "  <thead>\n",
       "    <tr style=\"text-align: right;\">\n",
       "      <th></th>\n",
       "      <th>STATE ABBREVIATION</th>\n",
       "      <th>(I)</th>\n",
       "      <th>D</th>\n",
       "      <th>FEC ID#</th>\n",
       "      <th>CANDIDATE NAME (First)</th>\n",
       "      <th>CANDIDATE NAME (Last)</th>\n",
       "      <th>GENERAL %</th>\n",
       "      <th>GE WINNER INDICATOR</th>\n",
       "      <th>PARTY</th>\n",
       "      <th>CAND_NAME</th>\n",
       "      <th>CAND_ICI</th>\n",
       "      <th>CAND_PTY_AFFILIATION</th>\n",
       "      <th>TTL_RECEIPTS</th>\n",
       "    </tr>\n",
       "    <tr>\n",
       "      <th>CAND_ID</th>\n",
       "      <th></th>\n",
       "      <th></th>\n",
       "      <th></th>\n",
       "      <th></th>\n",
       "      <th></th>\n",
       "      <th></th>\n",
       "      <th></th>\n",
       "      <th></th>\n",
       "      <th></th>\n",
       "      <th></th>\n",
       "      <th></th>\n",
       "      <th></th>\n",
       "      <th></th>\n",
       "    </tr>\n",
       "  </thead>\n",
       "  <tbody>\n",
       "    <tr>\n",
       "      <th>H6NE01119</th>\n",
       "      <td>NE</td>\n",
       "      <td>(I)</td>\n",
       "      <td>01</td>\n",
       "      <td>H6NE01119</td>\n",
       "      <td>Daniel M.</td>\n",
       "      <td>Wik</td>\n",
       "      <td>0.305474</td>\n",
       "      <td>NaN</td>\n",
       "      <td>D</td>\n",
       "      <td>NaN</td>\n",
       "      <td>NaN</td>\n",
       "      <td>NaN</td>\n",
       "      <td>NaN</td>\n",
       "    </tr>\n",
       "    <tr>\n",
       "      <th>H4PA03117</th>\n",
       "      <td>PA</td>\n",
       "      <td>(I)</td>\n",
       "      <td>03</td>\n",
       "      <td>H4PA03117</td>\n",
       "      <td>Mike</td>\n",
       "      <td>Kelly</td>\n",
       "      <td>0.972087</td>\n",
       "      <td>W</td>\n",
       "      <td>R</td>\n",
       "      <td>NaN</td>\n",
       "      <td>NaN</td>\n",
       "      <td>NaN</td>\n",
       "      <td>NaN</td>\n",
       "    </tr>\n",
       "    <tr>\n",
       "      <th>H6WA03234</th>\n",
       "      <td>WA</td>\n",
       "      <td>(I)</td>\n",
       "      <td>03</td>\n",
       "      <td>H6WA03234</td>\n",
       "      <td>Jaime Herrera</td>\n",
       "      <td>Beutler</td>\n",
       "      <td>0.617527</td>\n",
       "      <td>W</td>\n",
       "      <td>R</td>\n",
       "      <td>NaN</td>\n",
       "      <td>NaN</td>\n",
       "      <td>NaN</td>\n",
       "      <td>NaN</td>\n",
       "    </tr>\n",
       "    <tr>\n",
       "      <th>H6WA05171</th>\n",
       "      <td>WA</td>\n",
       "      <td>(I)</td>\n",
       "      <td>05</td>\n",
       "      <td>H6WA05171</td>\n",
       "      <td>Cathy McMorris</td>\n",
       "      <td>Rodgers</td>\n",
       "      <td>0.596410</td>\n",
       "      <td>W</td>\n",
       "      <td>R</td>\n",
       "      <td>NaN</td>\n",
       "      <td>NaN</td>\n",
       "      <td>NaN</td>\n",
       "      <td>NaN</td>\n",
       "    </tr>\n",
       "  </tbody>\n",
       "</table>\n",
       "</div>"
      ],
      "text/plain": [
       "          STATE ABBREVIATION  (I)   D    FEC ID# CANDIDATE NAME (First)  \\\n",
       "CAND_ID                                                                   \n",
       "H6NE01119                 NE  (I)  01  H6NE01119              Daniel M.   \n",
       "H4PA03117                 PA  (I)  03  H4PA03117                  Mike    \n",
       "H6WA03234                 WA  (I)  03  H6WA03234          Jaime Herrera   \n",
       "H6WA05171                 WA  (I)  05  H6WA05171         Cathy McMorris   \n",
       "\n",
       "          CANDIDATE NAME (Last)  GENERAL % GE WINNER INDICATOR PARTY  \\\n",
       "CAND_ID                                                                \n",
       "H6NE01119                   Wik   0.305474                 NaN     D   \n",
       "H4PA03117                 Kelly   0.972087                   W     R   \n",
       "H6WA03234               Beutler   0.617527                   W     R   \n",
       "H6WA05171               Rodgers   0.596410                   W     R   \n",
       "\n",
       "          CAND_NAME CAND_ICI CAND_PTY_AFFILIATION  TTL_RECEIPTS  \n",
       "CAND_ID                                                          \n",
       "H6NE01119       NaN      NaN                  NaN           NaN  \n",
       "H4PA03117       NaN      NaN                  NaN           NaN  \n",
       "H6WA03234       NaN      NaN                  NaN           NaN  \n",
       "H6WA05171       NaN      NaN                  NaN           NaN  "
      ]
     },
     "execution_count": 142,
     "metadata": {},
     "output_type": "execute_result"
    }
   ],
   "source": [
    "#can't match everybody, but don't think that's a huge issue\n",
    "joined_data_2016[joined_data_2016['(I)'].notnull() & joined_data_2016['CAND_ICI'].isnull()]"
   ]
  },
  {
   "cell_type": "code",
   "execution_count": 143,
   "metadata": {},
   "outputs": [],
   "source": [
    "joined_data.loc[joined_data.index=='H81D02064','CAND_ICI'] = 'I'\n",
    "joined_data.loc[joined_data.index=='H6IA01055','CAND_ICI'] = 'I'\n",
    "joined_data.loc[joined_data.index=='H8HY02031','CAND_ICI'] = 'I'\n",
    "joined_data.loc[joined_data.index=='H8NE02129','CAND_ICI'] = 'I'\n",
    "joined_data.loc[joined_data.index=='H8NE02129','CAND_ICI'] = 'I'\n",
    "joined_data.loc[joined_data.index=='H6OH23033','CAND_ICI'] = 'I'\n",
    "joined_data_2014.loc[joined_data_2014.index=='H8CA44034','CAND_ICI'] = 'I'\n",
    "joined_data_2014.loc[joined_data_2014.index=='H8FL22038','CAND_ICI'] = 'I'\n",
    "joined_data_2014.loc[joined_data_2014.index=='H81D02064','CAND_ICI'] = 'I'\n",
    "joined_data_2014.loc[joined_data_2014.index=='H6IL02124','CAND_ICI'] = 'I'\n",
    "joined_data_2014.loc[joined_data_2014.index=='H0IL15053','CAND_ICI'] = 'I'\n",
    "joined_data_2014.loc[joined_data_2014.index=='H6IA01055','CAND_ICI'] = 'I'\n",
    "joined_data_2014.loc[joined_data_2014.index=='H8HY02031','CAND_ICI'] = 'I'\n",
    "\n",
    "joined_data_2014.loc[joined_data_2014.index=='H6MA07101','CAND_ICI'] = 'I'\n",
    "joined_data_2014.loc[joined_data_2014.index=='S0MA00109','CAND_ICI'] = 'I'\n",
    "joined_data_2014.loc[joined_data_2014.index=='H0MI08042','CAND_ICI'] = 'I'\n",
    "joined_data_2014.loc[joined_data_2014.index=='H2NJ04165','CAND_ICI'] = 'I'\n",
    "joined_data_2014.loc[joined_data_2014.index=='H6OH23033','CAND_ICI'] = 'I'\n",
    "joined_data_2014.loc[joined_data_2014.index=='H6PA04110','CAND_ICI'] = 'I'\n",
    "\n",
    "joined_data_2014.loc[joined_data_2014.index=='H8NE02129','CAND_ICI'] = 'I'\n",
    "joined_data_2014.loc[joined_data_2014.index=='H2PA06080','CAND_ICI'] = 'I'\n",
    "joined_data_2016.loc[joined_data_2016.index=='H6NE01119','CAND_ICI'] = 'I'\n",
    "joined_data_2016.loc[joined_data_2016.index=='H4PA03117','CAND_ICI'] = 'I'\n",
    "joined_data_2016.loc[joined_data_2016.index=='H6WA03234','CAND_ICI'] = 'I'\n",
    "joined_data_2016.loc[joined_data_2016.index=='H6WA05171','CAND_ICI'] = 'I'"
   ]
  },
  {
   "cell_type": "code",
   "execution_count": 144,
   "metadata": {},
   "outputs": [
    {
     "data": {
      "text/plain": [
       "array([[<matplotlib.axes._subplots.AxesSubplot object at 0x1a1f6c76d8>,\n",
       "        <matplotlib.axes._subplots.AxesSubplot object at 0x1a1f0b0dd8>]],\n",
       "      dtype=object)"
      ]
     },
     "execution_count": 144,
     "metadata": {},
     "output_type": "execute_result"
    },
    {
     "data": {
      "image/png": "[encoded data removed]",
      "text/plain": [
       "<Figure size 432x288 with 2 Axes>"
      ]
     },
     "metadata": {},
     "output_type": "display_data"
    },
    {
     "data": {
      "image/png": "[encoded data removed]",
      "text/plain": [
       "<Figure size 432x288 with 2 Axes>"
      ]
     },
     "metadata": {},
     "output_type": "display_data"
    },
    {
     "data": {
      "image/png": "[encoded data removed]",
      "text/plain": [
       "<Figure size 432x288 with 2 Axes>"
      ]
     },
     "metadata": {},
     "output_type": "display_data"
    }
   ],
   "source": [
    "\n",
    "joined_data.hist()\n",
    "joined_data_2014.hist()\n",
    "joined_data_2016.hist()"
   ]
  },
  {
   "cell_type": "markdown",
   "metadata": {},
   "source": [
    "# Use log of campaign contributions"
   ]
  },
  {
   "cell_type": "code",
   "execution_count": 145,
   "metadata": {},
   "outputs": [
    {
     "name": "stderr",
     "output_type": "stream",
     "text": [
      "/Users/josephrmattis/anaconda3/lib/python3.6/site-packages/ipykernel_launcher.py:2: SettingWithCopyWarning: \n",
      "A value is trying to be set on a copy of a slice from a DataFrame.\n",
      "Try using .loc[row_indexer,col_indexer] = value instead\n",
      "\n",
      "See the caveats in the documentation: http://pandas.pydata.org/pandas-docs/stable/indexing.html#indexing-view-versus-copy\n",
      "  \n",
      "/Users/josephrmattis/anaconda3/lib/python3.6/site-packages/ipykernel_launcher.py:3: SettingWithCopyWarning: \n",
      "A value is trying to be set on a copy of a slice from a DataFrame.\n",
      "Try using .loc[row_indexer,col_indexer] = value instead\n",
      "\n",
      "See the caveats in the documentation: http://pandas.pydata.org/pandas-docs/stable/indexing.html#indexing-view-versus-copy\n",
      "  This is separate from the ipykernel package so we can avoid doing imports until\n",
      "/Users/josephrmattis/anaconda3/lib/python3.6/site-packages/ipykernel_launcher.py:7: SettingWithCopyWarning: \n",
      "A value is trying to be set on a copy of a slice from a DataFrame.\n",
      "Try using .loc[row_indexer,col_indexer] = value instead\n",
      "\n",
      "See the caveats in the documentation: http://pandas.pydata.org/pandas-docs/stable/indexing.html#indexing-view-versus-copy\n",
      "  import sys\n",
      "/Users/josephrmattis/anaconda3/lib/python3.6/site-packages/ipykernel_launcher.py:8: SettingWithCopyWarning: \n",
      "A value is trying to be set on a copy of a slice from a DataFrame.\n",
      "Try using .loc[row_indexer,col_indexer] = value instead\n",
      "\n",
      "See the caveats in the documentation: http://pandas.pydata.org/pandas-docs/stable/indexing.html#indexing-view-versus-copy\n",
      "  \n",
      "/Users/josephrmattis/anaconda3/lib/python3.6/site-packages/ipykernel_launcher.py:12: SettingWithCopyWarning: \n",
      "A value is trying to be set on a copy of a slice from a DataFrame.\n",
      "Try using .loc[row_indexer,col_indexer] = value instead\n",
      "\n",
      "See the caveats in the documentation: http://pandas.pydata.org/pandas-docs/stable/indexing.html#indexing-view-versus-copy\n",
      "  if sys.path[0] == '':\n",
      "/Users/josephrmattis/anaconda3/lib/python3.6/site-packages/ipykernel_launcher.py:13: SettingWithCopyWarning: \n",
      "A value is trying to be set on a copy of a slice from a DataFrame.\n",
      "Try using .loc[row_indexer,col_indexer] = value instead\n",
      "\n",
      "See the caveats in the documentation: http://pandas.pydata.org/pandas-docs/stable/indexing.html#indexing-view-versus-copy\n",
      "  del sys.path[0]\n"
     ]
    }
   ],
   "source": [
    "joined_data_no_null = joined_data[joined_data['TTL_RECEIPTS'].notnull()]\n",
    "joined_data_no_null['TTL_RECEIPTS'] = joined_data_no_null['TTL_RECEIPTS'].apply(lambda x: max(1, x))\n",
    "joined_data_no_null['money_raised_log'] = joined_data_no_null['TTL_RECEIPTS'].apply(lambda x: np.log(x))\n",
    "\n",
    "\n",
    "joined_data_no_null_2014 = joined_data_2014[joined_data_2014['TTL_RECEIPTS'].notnull()]\n",
    "joined_data_no_null_2014['TTL_RECEIPTS'] = joined_data_no_null_2014['TTL_RECEIPTS'].apply(lambda x: max(1, x))\n",
    "joined_data_no_null_2014['money_raised_log'] = joined_data_no_null_2014['TTL_RECEIPTS'].apply(lambda x: np.log(x))\n",
    "\n",
    "\n",
    "joined_data_no_null_2016 = joined_data_2016[joined_data_2016['TTL_RECEIPTS'].notnull()]\n",
    "joined_data_no_null_2016['TTL_RECEIPTS'] = joined_data_no_null_2016['TTL_RECEIPTS'].apply(lambda x: max(1, x))\n",
    "joined_data_no_null_2016['money_raised_log'] = joined_data_no_null_2016['TTL_RECEIPTS'].apply(lambda x: np.log(x))"
   ]
  },
  {
   "cell_type": "code",
   "execution_count": 146,
   "metadata": {},
   "outputs": [
    {
     "data": {
      "text/plain": [
       "<matplotlib.axes._subplots.AxesSubplot at 0x1a1ff5ba20>"
      ]
     },
     "execution_count": 146,
     "metadata": {},
     "output_type": "execute_result"
    },
    {
     "data": {
      "image/png": "[encoded data removed]",
      "text/plain": [
       "<Figure size 432x288 with 1 Axes>"
      ]
     },
     "metadata": {},
     "output_type": "display_data"
    }
   ],
   "source": [
    "\n",
    "joined_data_no_null.money_raised_log.hist()\n",
    "joined_data_no_null_2014.money_raised_log.hist()\n",
    "joined_data_no_null_2016.money_raised_log.hist()"
   ]
  },
  {
   "cell_type": "markdown",
   "metadata": {},
   "source": [
    "# Add some features"
   ]
  },
  {
   "cell_type": "code",
   "execution_count": 163,
   "metadata": {},
   "outputs": [],
   "source": [
    "def winner_func(x):\n",
    "    if x == 'W':\n",
    "        return 1\n",
    "    else:\n",
    "        return 0\n",
    "def incumbent_func(x):\n",
    "    if x == 'I':\n",
    "        return 1\n",
    "    else:\n",
    "        return 0\n",
    "    \n",
    "def party_match_pres(x):\n",
    "    if x == 'D':\n",
    "        return 1\n",
    "    else:\n",
    "        return 0"
   ]
  },
  {
   "cell_type": "code",
   "execution_count": 164,
   "metadata": {},
   "outputs": [
    {
     "name": "stderr",
     "output_type": "stream",
     "text": [
      "/Users/josephrmattis/anaconda3/lib/python3.6/site-packages/ipykernel_launcher.py:1: SettingWithCopyWarning: \n",
      "A value is trying to be set on a copy of a slice from a DataFrame.\n",
      "Try using .loc[row_indexer,col_indexer] = value instead\n",
      "\n",
      "See the caveats in the documentation: http://pandas.pydata.org/pandas-docs/stable/indexing.html#indexing-view-versus-copy\n",
      "  \"\"\"Entry point for launching an IPython kernel.\n",
      "/Users/josephrmattis/anaconda3/lib/python3.6/site-packages/ipykernel_launcher.py:2: SettingWithCopyWarning: \n",
      "A value is trying to be set on a copy of a slice from a DataFrame.\n",
      "Try using .loc[row_indexer,col_indexer] = value instead\n",
      "\n",
      "See the caveats in the documentation: http://pandas.pydata.org/pandas-docs/stable/indexing.html#indexing-view-versus-copy\n",
      "  \n",
      "/Users/josephrmattis/anaconda3/lib/python3.6/site-packages/ipykernel_launcher.py:5: SettingWithCopyWarning: \n",
      "A value is trying to be set on a copy of a slice from a DataFrame.\n",
      "Try using .loc[row_indexer,col_indexer] = value instead\n",
      "\n",
      "See the caveats in the documentation: http://pandas.pydata.org/pandas-docs/stable/indexing.html#indexing-view-versus-copy\n",
      "  \"\"\"\n",
      "/Users/josephrmattis/anaconda3/lib/python3.6/site-packages/ipykernel_launcher.py:6: SettingWithCopyWarning: \n",
      "A value is trying to be set on a copy of a slice from a DataFrame.\n",
      "Try using .loc[row_indexer,col_indexer] = value instead\n",
      "\n",
      "See the caveats in the documentation: http://pandas.pydata.org/pandas-docs/stable/indexing.html#indexing-view-versus-copy\n",
      "  \n",
      "/Users/josephrmattis/anaconda3/lib/python3.6/site-packages/ipykernel_launcher.py:8: SettingWithCopyWarning: \n",
      "A value is trying to be set on a copy of a slice from a DataFrame.\n",
      "Try using .loc[row_indexer,col_indexer] = value instead\n",
      "\n",
      "See the caveats in the documentation: http://pandas.pydata.org/pandas-docs/stable/indexing.html#indexing-view-versus-copy\n",
      "  \n",
      "/Users/josephrmattis/anaconda3/lib/python3.6/site-packages/ipykernel_launcher.py:9: SettingWithCopyWarning: \n",
      "A value is trying to be set on a copy of a slice from a DataFrame.\n",
      "Try using .loc[row_indexer,col_indexer] = value instead\n",
      "\n",
      "See the caveats in the documentation: http://pandas.pydata.org/pandas-docs/stable/indexing.html#indexing-view-versus-copy\n",
      "  if __name__ == '__main__':\n",
      "/Users/josephrmattis/anaconda3/lib/python3.6/site-packages/ipykernel_launcher.py:11: SettingWithCopyWarning: \n",
      "A value is trying to be set on a copy of a slice from a DataFrame.\n",
      "Try using .loc[row_indexer,col_indexer] = value instead\n",
      "\n",
      "See the caveats in the documentation: http://pandas.pydata.org/pandas-docs/stable/indexing.html#indexing-view-versus-copy\n",
      "  # This is added back by InteractiveShellApp.init_path()\n",
      "/Users/josephrmattis/anaconda3/lib/python3.6/site-packages/ipykernel_launcher.py:12: SettingWithCopyWarning: \n",
      "A value is trying to be set on a copy of a slice from a DataFrame.\n",
      "Try using .loc[row_indexer,col_indexer] = value instead\n",
      "\n",
      "See the caveats in the documentation: http://pandas.pydata.org/pandas-docs/stable/indexing.html#indexing-view-versus-copy\n",
      "  if sys.path[0] == '':\n",
      "/Users/josephrmattis/anaconda3/lib/python3.6/site-packages/ipykernel_launcher.py:13: SettingWithCopyWarning: \n",
      "A value is trying to be set on a copy of a slice from a DataFrame.\n",
      "Try using .loc[row_indexer,col_indexer] = value instead\n",
      "\n",
      "See the caveats in the documentation: http://pandas.pydata.org/pandas-docs/stable/indexing.html#indexing-view-versus-copy\n",
      "  del sys.path[0]\n"
     ]
    }
   ],
   "source": [
    "joined_data_no_null['win'] = joined_data_no_null['GE WINNER INDICATOR'].apply(lambda x: winner_func(x))\n",
    "joined_data_no_null['incumbent'] = joined_data_no_null['CAND_ICI'].apply(lambda x: incumbent_func(x))\n",
    "\n",
    "\n",
    "joined_data_no_null_2014['win'] = joined_data_no_null_2014['GE WINNER INDICATOR'].apply(lambda x: winner_func(x))\n",
    "joined_data_no_null_2014['incumbent'] = joined_data_no_null_2014['CAND_ICI'].apply(lambda x: incumbent_func(x))\n",
    "\n",
    "joined_data_no_null_2016['win'] = joined_data_no_null_2016['GE WINNER INDICATOR'].apply(lambda x: winner_func(x))\n",
    "joined_data_no_null_2016['incumbent'] = joined_data_no_null_2016['CAND_ICI'].apply(lambda x: incumbent_func(x))\n",
    "\n",
    "joined_data_no_null['party_match_pres'] = joined_data_no_null['PARTY'].apply(lambda x:party_match_pres(x))\n",
    "joined_data_no_null_2014['party_match_pres'] = joined_data_no_null_2014['PARTY'].apply(lambda x:party_match_pres(x))\n",
    "joined_data_no_null_2016['party_match_pres'] = joined_data_no_null_2016['PARTY'].apply(lambda x:party_match_pres(x))\n"
   ]
  },
  {
   "cell_type": "code",
   "execution_count": 165,
   "metadata": {},
   "outputs": [],
   "source": [
    "X_2012 = joined_data_no_null[['money_raised_log','incumbent', 'party_match_pres']]\n",
    "y_2012 = joined_data_no_null['win']\n",
    "\n",
    "X_2014 = joined_data_no_null_2014[['money_raised_log','incumbent','party_match_pres']]\n",
    "y_2014 = joined_data_no_null_2014['win']\n",
    "\n",
    "X_2016 = joined_data_no_null_2016[['money_raised_log','incumbent','party_match_pres']]\n",
    "y_2016 = joined_data_no_null_2016['win']"
   ]
  },
  {
   "cell_type": "markdown",
   "metadata": {},
   "source": [
    "# 2012 data"
   ]
  },
  {
   "cell_type": "code",
   "execution_count": 166,
   "metadata": {},
   "outputs": [],
   "source": [
    "lr_2012 = LogisticRegression()"
   ]
  },
  {
   "cell_type": "code",
   "execution_count": 167,
   "metadata": {},
   "outputs": [],
   "source": [
    "X_train_2012, X_test_2012, y_train_2012, y_test_2012 = train_test_split(X_2012, y_2012)"
   ]
  },
  {
   "cell_type": "code",
   "execution_count": 168,
   "metadata": {},
   "outputs": [
    {
     "data": {
      "text/plain": [
       "LogisticRegression(C=1.0, class_weight=None, dual=False, fit_intercept=True,\n",
       "          intercept_scaling=1, max_iter=100, multi_class='ovr', n_jobs=1,\n",
       "          penalty='l2', random_state=None, solver='liblinear', tol=0.0001,\n",
       "          verbose=0, warm_start=False)"
      ]
     },
     "execution_count": 168,
     "metadata": {},
     "output_type": "execute_result"
    }
   ],
   "source": [
    "lr_2012.fit(X_train_2012, y_train_2012)"
   ]
  },
  {
   "cell_type": "code",
   "execution_count": 169,
   "metadata": {},
   "outputs": [],
   "source": [
    "pred_2012 = lr_2012.predict(X_test_2012)"
   ]
  },
  {
   "cell_type": "markdown",
   "metadata": {},
   "source": [
    "# 2012 Logistic Regression"
   ]
  },
  {
   "cell_type": "code",
   "execution_count": 200,
   "metadata": {},
   "outputs": [
    {
     "data": {
      "text/plain": [
       "0.8971553610503282"
      ]
     },
     "execution_count": 200,
     "metadata": {},
     "output_type": "execute_result"
    }
   ],
   "source": [
    "lr_2012.score(X_test_2012, y_test_2012)"
   ]
  },
  {
   "cell_type": "code",
   "execution_count": 201,
   "metadata": {},
   "outputs": [
    {
     "name": "stdout",
     "output_type": "stream",
     "text": [
      "             precision    recall  f1-score   support\n",
      "\n",
      "          0       0.94      0.92      0.93       325\n",
      "          1       0.81      0.85      0.83       132\n",
      "\n",
      "avg / total       0.90      0.90      0.90       457\n",
      "\n"
     ]
    }
   ],
   "source": [
    "print(classification_report(y_test_2012, pred_2012))"
   ]
  },
  {
   "cell_type": "markdown",
   "metadata": {},
   "source": [
    "# 2012 Dummy\n"
   ]
  },
  {
   "cell_type": "code",
   "execution_count": 172,
   "metadata": {},
   "outputs": [],
   "source": [
    "dummy_2012 = DummyClassifier()"
   ]
  },
  {
   "cell_type": "code",
   "execution_count": 173,
   "metadata": {},
   "outputs": [
    {
     "data": {
      "text/plain": [
       "DummyClassifier(constant=None, random_state=None, strategy='stratified')"
      ]
     },
     "execution_count": 173,
     "metadata": {},
     "output_type": "execute_result"
    }
   ],
   "source": [
    "dummy_2012.fit(X_train_2012, y_train_2012)"
   ]
  },
  {
   "cell_type": "code",
   "execution_count": 174,
   "metadata": {},
   "outputs": [],
   "source": [
    "dummy_pred_2012 = dummy.predict(X_test_2012)"
   ]
  },
  {
   "cell_type": "code",
   "execution_count": 175,
   "metadata": {},
   "outputs": [
    {
     "name": "stdout",
     "output_type": "stream",
     "text": [
      "             precision    recall  f1-score   support\n",
      "\n",
      "          0       0.70      0.68      0.69       325\n",
      "          1       0.26      0.28      0.27       132\n",
      "\n",
      "avg / total       0.57      0.56      0.57       457\n",
      "\n"
     ]
    }
   ],
   "source": [
    "print(classification_report(y_test_2012, dummy_pred_2012))"
   ]
  },
  {
   "cell_type": "code",
   "execution_count": 176,
   "metadata": {},
   "outputs": [
    {
     "data": {
      "text/plain": [
       "0.5886214442013129"
      ]
     },
     "execution_count": 176,
     "metadata": {},
     "output_type": "execute_result"
    }
   ],
   "source": [
    "dummy.score(X_test_2012, y_test_2012)"
   ]
  },
  {
   "cell_type": "markdown",
   "metadata": {},
   "source": [
    "# Add in polling data"
   ]
  },
  {
   "cell_type": "code",
   "execution_count": 177,
   "metadata": {},
   "outputs": [],
   "source": [
    "repub_poll = house_polls_2012.republican_avg.max()\n",
    "dem_poll = house_polls_2012.democrat_avg.max()\n",
    "repub_poll_2014 = house_polls_2014.republican_avg.max()\n",
    "dem_poll_2014= house_polls_2014.democrat_avg.max()"
   ]
  },
  {
   "cell_type": "code",
   "execution_count": 211,
   "metadata": {},
   "outputs": [],
   "source": [
    "def likelihood_2012(x):\n",
    "    if x == \"D\":\n",
    "        return dem_poll\n",
    "    elif x == \"R\":\n",
    "        return repub_poll\n",
    "    else:\n",
    "        return 0\n",
    "    \n",
    "def likelihood_2014(x):\n",
    "    if x == \"D\":\n",
    "        return dem_poll_2014\n",
    "    elif x == \"R\":\n",
    "        return repub_poll_2014\n",
    "    else:\n",
    "        return 0\n",
    "def likelihood_2016(x):\n",
    "    if x == \"D\":\n",
    "        return 46.0\n",
    "    elif x == \"R\":\n",
    "        return 45.4\n",
    "    else:\n",
    "        return 0\n"
   ]
  },
  {
   "cell_type": "code",
   "execution_count": 212,
   "metadata": {},
   "outputs": [
    {
     "name": "stderr",
     "output_type": "stream",
     "text": [
      "/Users/josephrmattis/anaconda3/lib/python3.6/site-packages/ipykernel_launcher.py:1: SettingWithCopyWarning: \n",
      "A value is trying to be set on a copy of a slice from a DataFrame.\n",
      "Try using .loc[row_indexer,col_indexer] = value instead\n",
      "\n",
      "See the caveats in the documentation: http://pandas.pydata.org/pandas-docs/stable/indexing.html#indexing-view-versus-copy\n",
      "  \"\"\"Entry point for launching an IPython kernel.\n",
      "/Users/josephrmattis/anaconda3/lib/python3.6/site-packages/ipykernel_launcher.py:2: SettingWithCopyWarning: \n",
      "A value is trying to be set on a copy of a slice from a DataFrame.\n",
      "Try using .loc[row_indexer,col_indexer] = value instead\n",
      "\n",
      "See the caveats in the documentation: http://pandas.pydata.org/pandas-docs/stable/indexing.html#indexing-view-versus-copy\n",
      "  \n"
     ]
    }
   ],
   "source": [
    "joined_data_no_null['likelihood'] = joined_data_no_null.PARTY.apply(lambda x: likelihood_2012(x))\n",
    "joined_data_no_null_2014['likelihood'] = joined_data_no_null_2014.PARTY.apply(lambda x: likelihood_2014(x))"
   ]
  },
  {
   "cell_type": "code",
   "execution_count": null,
   "metadata": {},
   "outputs": [],
   "source": []
  },
  {
   "cell_type": "code",
   "execution_count": 186,
   "metadata": {},
   "outputs": [],
   "source": [
    "X = joined_data_no_null[['money_raised_log','incumbent', 'party_match_pres','likelihood']]\n",
    "y = joined_data_no_null['win']\n",
    "X_train, X_test, y_train, y_test = train_test_split(X, y)\n",
    "\n"
   ]
  },
  {
   "cell_type": "code",
   "execution_count": 187,
   "metadata": {},
   "outputs": [],
   "source": [
    "lr_polls_2012 = LogisticRegression()"
   ]
  },
  {
   "cell_type": "code",
   "execution_count": 189,
   "metadata": {},
   "outputs": [
    {
     "data": {
      "text/plain": [
       "LogisticRegression(C=1.0, class_weight=None, dual=False, fit_intercept=True,\n",
       "          intercept_scaling=1, max_iter=100, multi_class='ovr', n_jobs=1,\n",
       "          penalty='l2', random_state=None, solver='liblinear', tol=0.0001,\n",
       "          verbose=0, warm_start=False)"
      ]
     },
     "execution_count": 189,
     "metadata": {},
     "output_type": "execute_result"
    }
   ],
   "source": [
    "lr_polls_2012.fit(X_train, y_train)"
   ]
  },
  {
   "cell_type": "code",
   "execution_count": 192,
   "metadata": {},
   "outputs": [],
   "source": [
    "pred = lr_polls_2012.predict(X_test)"
   ]
  },
  {
   "cell_type": "code",
   "execution_count": 193,
   "metadata": {},
   "outputs": [
    {
     "name": "stdout",
     "output_type": "stream",
     "text": [
      "             precision    recall  f1-score   support\n",
      "\n",
      "          0       0.93      1.00      0.96       229\n",
      "          1       0.99      0.86      0.92       111\n",
      "\n",
      "avg / total       0.95      0.95      0.95       340\n",
      "\n"
     ]
    }
   ],
   "source": [
    "print(classification_report(y_test, pred))"
   ]
  },
  {
   "cell_type": "code",
   "execution_count": null,
   "metadata": {},
   "outputs": [],
   "source": [
    "\n",
    "X_2014 = joined_data_no_null_2014[['money_raised_log','incumbent', 'party_match_pres','likelihood']]\n",
    "y_2014 = joined_data_no_null_2014['win']\n",
    "X_train, X_test, y_train, y_test = train_test_split(X_2014, y_2014)"
   ]
  },
  {
   "cell_type": "code",
   "execution_count": 195,
   "metadata": {},
   "outputs": [],
   "source": [
    "lr_polls_2014 = LogisticRegression()"
   ]
  },
  {
   "cell_type": "code",
   "execution_count": 196,
   "metadata": {},
   "outputs": [
    {
     "data": {
      "text/plain": [
       "LogisticRegression(C=1.0, class_weight=None, dual=False, fit_intercept=True,\n",
       "          intercept_scaling=1, max_iter=100, multi_class='ovr', n_jobs=1,\n",
       "          penalty='l2', random_state=None, solver='liblinear', tol=0.0001,\n",
       "          verbose=0, warm_start=False)"
      ]
     },
     "execution_count": 196,
     "metadata": {},
     "output_type": "execute_result"
    }
   ],
   "source": [
    "lr_polls_2014.fit(X_train, y_train)"
   ]
  },
  {
   "cell_type": "code",
   "execution_count": 197,
   "metadata": {},
   "outputs": [],
   "source": [
    "pred = lr_polls_2014.predict(X_test)"
   ]
  },
  {
   "cell_type": "code",
   "execution_count": 198,
   "metadata": {},
   "outputs": [
    {
     "name": "stdout",
     "output_type": "stream",
     "text": [
      "             precision    recall  f1-score   support\n",
      "\n",
      "          0       0.94      0.98      0.96       197\n",
      "          1       0.97      0.91      0.94       143\n",
      "\n",
      "avg / total       0.95      0.95      0.95       340\n",
      "\n"
     ]
    }
   ],
   "source": [
    "print(classification_report(y_test, pred))"
   ]
  },
  {
   "cell_type": "markdown",
   "metadata": {},
   "source": [
    "# Using 2012 and 2014 to predict 2016"
   ]
  },
  {
   "cell_type": "code",
   "execution_count": 203,
   "metadata": {},
   "outputs": [],
   "source": [
    "X = joined_data_no_null[['money_raised_log','incumbent', 'party_match_pres','likelihood']]\n",
    "y = joined_data_no_null['win']\n",
    "X_train, X_test, y_train, y_test = train_test_split(X, y)\n",
    "\n",
    "X_2014 = joined_data_no_null_2014[['money_raised_log','incumbent', 'party_match_pres','likelihood']]\n",
    "y_2014 = joined_data_no_null_2014['win']\n",
    "X_train, X_test, y_train, y_test = train_test_split(X_2014, y_2014)"
   ]
  },
  {
   "cell_type": "code",
   "execution_count": 204,
   "metadata": {},
   "outputs": [],
   "source": [
    "data_2012 = joined_data_no_null.reset_index()\n",
    "data_2014 = joined_data_no_null_2014.reset_index()\n",
    "data_2016 = joined_data_no_null_2016.reset_index()"
   ]
  },
  {
   "cell_type": "code",
   "execution_count": 205,
   "metadata": {},
   "outputs": [],
   "source": [
    "joined_data_train = pd.concat([data_2012, data_2014])"
   ]
  },
  {
   "cell_type": "code",
   "execution_count": 213,
   "metadata": {},
   "outputs": [],
   "source": [
    "data_2016['likelihood'] = data_2016.PARTY.apply(lambda x: likelihood_2016(x))"
   ]
  },
  {
   "cell_type": "code",
   "execution_count": 214,
   "metadata": {},
   "outputs": [],
   "source": [
    "X_train = joined_data_train[['money_raised_log','incumbent', 'party_match_pres', 'likelihood']]\n",
    "y_train = joined_data_train['win']\n",
    "X_test = data_2016[['money_raised_log','incumbent', 'party_match_pres','likelihood']]\n",
    "y_test = data_2016['win']"
   ]
  },
  {
   "cell_type": "code",
   "execution_count": 215,
   "metadata": {},
   "outputs": [],
   "source": [
    "lr_final= LogisticRegression()"
   ]
  },
  {
   "cell_type": "code",
   "execution_count": 216,
   "metadata": {},
   "outputs": [
    {
     "data": {
      "text/plain": [
       "LogisticRegression(C=1.0, class_weight=None, dual=False, fit_intercept=True,\n",
       "          intercept_scaling=1, max_iter=100, multi_class='ovr', n_jobs=1,\n",
       "          penalty='l2', random_state=None, solver='liblinear', tol=0.0001,\n",
       "          verbose=0, warm_start=False)"
      ]
     },
     "execution_count": 216,
     "metadata": {},
     "output_type": "execute_result"
    }
   ],
   "source": [
    "lr_final.fit(X_train, y_train)"
   ]
  },
  {
   "cell_type": "code",
   "execution_count": 217,
   "metadata": {},
   "outputs": [],
   "source": [
    "pred = lr_final.predict(X_test)"
   ]
  },
  {
   "cell_type": "code",
   "execution_count": 218,
   "metadata": {},
   "outputs": [
    {
     "name": "stdout",
     "output_type": "stream",
     "text": [
      "             precision    recall  f1-score   support\n",
      "\n",
      "          0       0.93      0.97      0.95       851\n",
      "          1       0.95      0.87      0.91       491\n",
      "\n",
      "avg / total       0.94      0.94      0.94      1342\n",
      "\n"
     ]
    }
   ],
   "source": [
    "print(classification_report(y_test, pred))"
   ]
  },
  {
   "cell_type": "code",
   "execution_count": 220,
   "metadata": {},
   "outputs": [
    {
     "data": {
      "text/plain": [
       "0.9359165424739195"
      ]
     },
     "execution_count": 220,
     "metadata": {},
     "output_type": "execute_result"
    }
   ],
   "source": [
    "lr_final.score(X_test, y_test)"
   ]
  },
  {
   "cell_type": "code",
   "execution_count": null,
   "metadata": {},
   "outputs": [],
   "source": []
  },
  {
   "cell_type": "code",
   "execution_count": 222,
   "metadata": {},
   "outputs": [],
   "source": [
    "data_2016['pred'] = pred"
   ]
  },
  {
   "cell_type": "code",
   "execution_count": 223,
   "metadata": {},
   "outputs": [
    {
     "data": {
      "text/plain": [
       "R              212\n",
       "D              166\n",
       "WF              15\n",
       "WEP             12\n",
       "IDP              8\n",
       "REF              7\n",
       "CRV              7\n",
       "DFL              5\n",
       "W(IP)            4\n",
       "R                3\n",
       "D/IP             2\n",
       "W(R)             2\n",
       "R                1\n",
       "R/TRP            1\n",
       "R                1\n",
       "D/R              1\n",
       "D/PRO/WF/IP      1\n",
       "R/IP             1\n",
       "R/W              1\n",
       "W(D)             1\n",
       "Name: PARTY, dtype: int64"
      ]
     },
     "execution_count": 223,
     "metadata": {},
     "output_type": "execute_result"
    }
   ],
   "source": [
    "data_2016[data_2016['pred']==1].PARTY.value_counts()"
   ]
  },
  {
   "cell_type": "code",
   "execution_count": null,
   "metadata": {},
   "outputs": [],
   "source": []
  }
 ],
 "metadata": {
  "kernelspec": {
   "display_name": "Python 3",
   "language": "python",
   "name": "python3"
  },
  "language_info": {
   "codemirror_mode": {
    "name": "ipython",
    "version": 3
   },
   "file_extension": ".py",
   "mimetype": "text/x-python",
   "name": "python",
   "nbconvert_exporter": "python",
   "pygments_lexer": "ipython3",
   "version": "3.6.5"
  }
 },
 "nbformat": 4,
 "nbformat_minor": 2
}
